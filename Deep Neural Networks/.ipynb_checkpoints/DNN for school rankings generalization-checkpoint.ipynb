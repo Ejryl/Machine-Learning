{
 "cells": [
  {
   "cell_type": "code",
   "execution_count": 1,
   "metadata": {},
   "outputs": [
    {
     "name": "stderr",
     "output_type": "stream",
     "text": [
      "Using TensorFlow backend.\n"
     ]
    }
   ],
   "source": [
    "import pandas as pd\n",
    "import numpy as np\n",
    "import keras\n",
    "from keras import utils\n",
    "from keras.layers import Dense, Activation\n",
    "from keras.models import Sequential\n",
    "from sklearn.model_selection import train_test_split\n",
    "import plotly.plotly as plotly\n",
    "import plotly.graph_objs as go"
   ]
  },
  {
   "cell_type": "markdown",
   "metadata": {},
   "source": [
    "### Read the data"
   ]
  },
  {
   "cell_type": "code",
   "execution_count": 2,
   "metadata": {},
   "outputs": [],
   "source": [
    "data = pd.read_csv(\"/Users/stepanulyanin/Programming/School Rankings Crawler/austin_schools.csv\")\n",
    "\n",
    "# clear out the nulls\n",
    "data = data[np.logical_not(np.isnan(data['lat']))]\n",
    "# clear out the NaN\n",
    "data_train = data[np.logical_not(np.isnan(data[\"score\"]))]"
   ]
  },
  {
   "cell_type": "code",
   "execution_count": 3,
   "metadata": {
    "scrolled": false
   },
   "outputs": [],
   "source": [
    "# define the training set\n",
    "x_train = np.column_stack((data_train[\"lat\"], data_train[\"long\"]))\n",
    "y_train = data_train[\"score\"]"
   ]
  },
  {
   "cell_type": "code",
   "execution_count": 4,
   "metadata": {},
   "outputs": [],
   "source": [
    "# standardize he training set\n",
    "lat_std = (data_train[\"lat\"] - np.mean(data_train[\"lat\"])) / np.std(data_train[\"lat\"])\n",
    "long_std = (data_train[\"long\"] - np.mean(data_train[\"long\"])) / np.std(data_train[\"long\"])"
   ]
  },
  {
   "cell_type": "code",
   "execution_count": 5,
   "metadata": {},
   "outputs": [],
   "source": [
    "x_train = np.column_stack((lat_std, long_std))\n",
    "y_train = data_train[\"score\"] - 1"
   ]
  },
  {
   "cell_type": "markdown",
   "metadata": {},
   "source": [
    "### Visualize the data"
   ]
  },
  {
   "cell_type": "code",
   "execution_count": 6,
   "metadata": {},
   "outputs": [
    {
     "data": {
      "text/html": [
       "<iframe id=\"igraph\" scrolling=\"no\" style=\"border:none;\" seamless=\"seamless\" src=\"https://plot.ly/~halahup/587.embed\" height=\"525px\" width=\"100%\"></iframe>"
      ],
      "text/plain": [
       "<plotly.tools.PlotlyDisplay object>"
      ]
     },
     "execution_count": 6,
     "metadata": {},
     "output_type": "execute_result"
    }
   ],
   "source": [
    "trace = go.Scatter(x = long_std, \n",
    "                   y = lat_std, \n",
    "                   mode='markers', \n",
    "                   marker=dict(\n",
    "                        size='16',\n",
    "                        color = y_train,\n",
    "                        colorscale='Viridis',\n",
    "                        showscale=True))\n",
    "\n",
    "plotly.iplot([trace])"
   ]
  },
  {
   "cell_type": "markdown",
   "metadata": {},
   "source": [
    "### Build the model"
   ]
  },
  {
   "cell_type": "code",
   "execution_count": 7,
   "metadata": {},
   "outputs": [],
   "source": [
    "# one-hot encoding of the targets\n",
    "target = utils.to_categorical(y_train, num_classes=10)"
   ]
  },
  {
   "cell_type": "code",
   "execution_count": 8,
   "metadata": {},
   "outputs": [
    {
     "data": {
      "text/plain": [
       "<keras.callbacks.History at 0x11f5adf98>"
      ]
     },
     "execution_count": 8,
     "metadata": {},
     "output_type": "execute_result"
    }
   ],
   "source": [
    "# initializers\n",
    "b_init = keras.initializers.zeros()\n",
    "w_init = keras.initializers.random_normal(mean=0, stddev=0.05)\n",
    "\n",
    "# model definition\n",
    "model = Sequential([\n",
    "    Dense(512, input_shape=(2,), kernel_initializer=w_init, bias_initializer=b_init),\n",
    "    Activation('tanh'),\n",
    "    \n",
    "    Dense(512, kernel_initializer=w_init, bias_initializer=b_init),\n",
    "    Activation('tanh'),\n",
    "    \n",
    "    Dense(512, kernel_initializer=w_init, bias_initializer=b_init),\n",
    "    Activation('tanh'),\n",
    "    \n",
    "    Dense(10, kernel_initializer=w_init, bias_initializer=b_init),\n",
    "    Activation('softmax')\n",
    "])\n",
    "\n",
    "# tensorboard callback\n",
    "tb = keras.callbacks.TensorBoard(log_dir='./logs/lr01_ep500', histogram_freq=0, batch_size=180, write_graph=True, \n",
    "                                 write_grads=True, write_images=True, embeddings_freq=0, \n",
    "                                 embeddings_layer_names=None, embeddings_metadata=None)\n",
    "\n",
    "# adam optimizer\n",
    "adam_optimizer = keras.optimizers.adam(beta_1=0.9, beta_2=0.999, lr=0.01, epsilon=10e-8)\n",
    "\n",
    "# compile the model\n",
    "model.compile(optimizer=adam_optimizer, loss=\"categorical_crossentropy\", metrics=[\"categorical_accuracy\"])\n",
    "\n",
    "# fit the model\n",
    "model.fit(x_train, target, verbose=0, validation_split=0.15, epochs=500, batch_size=180, callbacks=[tb])"
   ]
  },
  {
   "cell_type": "markdown",
   "metadata": {},
   "source": [
    "### Evaluate and Predict"
   ]
  },
  {
   "cell_type": "code",
   "execution_count": 9,
   "metadata": {},
   "outputs": [],
   "source": [
    "# build the data for predictions\n",
    "data_to_predict = data[np.isnan(data[\"score\"])]\n",
    "\n",
    "# standardize the predictions set\n",
    "lat_std = (data_to_predict[\"lat\"] - np.mean(data_to_predict[\"lat\"])) / np.std(data_to_predict[\"lat\"])\n",
    "long_std = (data_to_predict[\"long\"] - np.mean(data_to_predict[\"long\"])) / np.std(data_to_predict[\"long\"])\n",
    "\n",
    "# put together the dataset\n",
    "x_to_predict = np.column_stack((lat_std, long_std))"
   ]
  },
  {
   "cell_type": "code",
   "execution_count": 16,
   "metadata": {},
   "outputs": [
    {
     "name": "stdout",
     "output_type": "stream",
     "text": [
      "53/53 [==============================] - 0s\n"
     ]
    },
    {
     "data": {
      "text/plain": [
       "[1.8193274736404419, 0.84905660152435303]"
      ]
     },
     "execution_count": 16,
     "metadata": {},
     "output_type": "execute_result"
    }
   ],
   "source": [
    "# evaluate the model\n",
    "X_train, X_test, y_train, y_test = train_test_split(x_train, target, test_size=0.25)\n",
    "model.evaluate(x=X_test, y=y_test, batch_size=180)"
   ]
  },
  {
   "cell_type": "code",
   "execution_count": 17,
   "metadata": {},
   "outputs": [
    {
     "name": "stdout",
     "output_type": "stream",
     "text": [
      "\r",
      "32/53 [=================>............] - ETA: 0s"
     ]
    }
   ],
   "source": [
    "prediction = model.predict_classes(x=X_test)\n",
    "y = np.array(np.where(y_test==1))[1]"
   ]
  },
  {
   "cell_type": "code",
   "execution_count": 18,
   "metadata": {},
   "outputs": [
    {
     "name": "stdout",
     "output_type": "stream",
     "text": [
      "Y: [8 7 5 7 7 3 8 3 4 3 9 4 9 0 2 4 2 9 1 4 2 5 9 5 7 9 5 8 3 5 3 0 6 6 5 4 6\n",
      " 3 7 6 6 9 9 6 4 5 8 3 2 7 8 7 0]\n",
      "\n",
      "Predictions: [8 7 5 7 7 3 8 3 4 3 9 4 7 2 8 4 3 9 4 4 5 5 9 5 7 9 5 8 3 5 3 4 6 6 5 4 6\n",
      " 3 7 6 6 9 9 6 4 5 8 3 2 7 8 7 4]\n"
     ]
    }
   ],
   "source": [
    "print(\"Y: {}\\n\".format(y))\n",
    "print(\"Predictions: {}\".format(prediction))"
   ]
  },
  {
   "cell_type": "code",
   "execution_count": 15,
   "metadata": {},
   "outputs": [
    {
     "data": {
      "text/html": [
       "<iframe id=\"igraph\" scrolling=\"no\" style=\"border:none;\" seamless=\"seamless\" src=\"https://plot.ly/~halahup/589.embed\" height=\"525px\" width=\"100%\"></iframe>"
      ],
      "text/plain": [
       "<plotly.tools.PlotlyDisplay object>"
      ]
     },
     "execution_count": 15,
     "metadata": {},
     "output_type": "execute_result"
    }
   ],
   "source": [
    "# graph the actual scores and predictions\n",
    "trace_y = go.Scatter(x=np.arange(len(y)), \n",
    "                     y=y, \n",
    "                     mode='markers', \n",
    "                     marker=dict(\n",
    "                            size = \"10\"),\n",
    "                     name=\"actual scores\")\n",
    "\n",
    "trace_prediction = go.Scatter(x=np.arange(len(y)), \n",
    "                              y=prediction, \n",
    "                              mode='markers', \n",
    "                              marker=dict(\n",
    "                                     size = \"10\"),\n",
    "                              name=\"predicted scores\")\n",
    "\n",
    "plotly.iplot([trace_y, trace_prediction])"
   ]
  },
  {
   "cell_type": "code",
   "execution_count": null,
   "metadata": {
    "collapsed": true
   },
   "outputs": [],
   "source": []
  }
 ],
 "metadata": {
  "kernelspec": {
   "display_name": "Python 3",
   "language": "python",
   "name": "python3"
  },
  "language_info": {
   "codemirror_mode": {
    "name": "ipython",
    "version": 3
   },
   "file_extension": ".py",
   "mimetype": "text/x-python",
   "name": "python",
   "nbconvert_exporter": "python",
   "pygments_lexer": "ipython3",
   "version": "3.6.2"
  }
 },
 "nbformat": 4,
 "nbformat_minor": 2
}
