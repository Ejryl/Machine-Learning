{
 "cells": [
  {
   "cell_type": "code",
   "execution_count": 2,
   "metadata": {},
   "outputs": [
    {
     "name": "stderr",
     "output_type": "stream",
     "text": [
      "Using TensorFlow backend.\n"
     ]
    }
   ],
   "source": [
    "# import statements\n",
    "import keras\n",
    "from keras.models import Sequential\n",
    "from keras.layers import Dense, Conv2D, MaxPool2D, Flatten, Dropout, BatchNormalization\n",
    "from keras.preprocessing.image import ImageDataGenerator\n",
    "\n",
    "from keras.datasets import cifar10\n",
    "from keras.datasets import mnist\n",
    "\n",
    "from quiver_engine import server\n",
    "from matplotlib.pyplot import imshow"
   ]
  },
  {
   "cell_type": "markdown",
   "metadata": {},
   "source": [
    "## Keras"
   ]
  },
  {
   "cell_type": "markdown",
   "metadata": {},
   "source": [
    "### Data import"
   ]
  },
  {
   "cell_type": "code",
   "execution_count": 3,
   "metadata": {},
   "outputs": [],
   "source": [
    "# load the data\n",
    "(x_train, y_train), (x_test, y_test) = cifar10.load_data()\n",
    "# (x_train, y_train), (x_test, y_test) = mnist.load_data()"
   ]
  },
  {
   "cell_type": "code",
   "execution_count": 4,
   "metadata": {},
   "outputs": [],
   "source": [
    "# normalize the data\n",
    "x_train, x_test = x_train/255., x_test/255."
   ]
  },
  {
   "cell_type": "code",
   "execution_count": 5,
   "metadata": {},
   "outputs": [],
   "source": [
    "y_train = keras.utils.to_categorical(y_train, num_classes=10)\n",
    "y_test = keras.utils.to_categorical(y_test, num_classes=10)"
   ]
  },
  {
   "cell_type": "code",
   "execution_count": 6,
   "metadata": {},
   "outputs": [
    {
     "data": {
      "text/plain": [
       "<matplotlib.image.AxesImage at 0x12c907da0>"
      ]
     },
     "execution_count": 6,
     "metadata": {},
     "output_type": "execute_result"
    },
    {
     "data": {
      "image/png": "[encoded data removed]",
      "text/plain": [
       "<matplotlib.figure.Figure at 0x11f73abe0>"
      ]
     },
     "metadata": {},
     "output_type": "display_data"
    }
   ],
   "source": [
    "# check an image\n",
    "imshow(x_train[563])"
   ]
  },
  {
   "cell_type": "markdown",
   "metadata": {},
   "source": [
    "### Model definition"
   ]
  },
  {
   "cell_type": "markdown",
   "metadata": {},
   "source": [
    "**Data Augmentation**"
   ]
  },
  {
   "cell_type": "code",
   "execution_count": 16,
   "metadata": {},
   "outputs": [],
   "source": [
    "# datagen = ImageDataGenerator(\n",
    "#     featurewise_center=True,\n",
    "#     featurewise_std_normalization=True,\n",
    "#     rotation_range=20,\n",
    "#     width_shift_range=0.2,\n",
    "#     height_shift_range=0.2,\n",
    "#     horizontal_flip=True)\n",
    "\n",
    "# # compute quantities required for featurewise normalization\n",
    "# # (std, mean, and principal components if ZCA whitening is applied)\n",
    "# datagen.fit(x_train)\n",
    "\n",
    "# # fits the model on batches with real-time data augmentation:\n",
    "# model.fit_generator(datagen.flow(x_train, y_train, batch_size=32),\n",
    "#                     steps_per_epoch=len(x_train) / 32, epochs=20)"
   ]
  },
  {
   "cell_type": "markdown",
   "metadata": {},
   "source": [
    "**Initializers**"
   ]
  },
  {
   "cell_type": "code",
   "execution_count": 17,
   "metadata": {},
   "outputs": [],
   "source": [
    "w_init = keras.initializers.glorot_normal()\n",
    "b_init = keras.initializers.zeros()\n",
    "w_dense_init = keras.initializers.random_normal()"
   ]
  },
  {
   "cell_type": "markdown",
   "metadata": {},
   "source": [
    "**Optimizer and Callbacks**"
   ]
  },
  {
   "cell_type": "code",
   "execution_count": 18,
   "metadata": {},
   "outputs": [],
   "source": [
    "adam = keras.optimizers.Adam(lr=0.001, beta_1=0.9, beta_2=0.999, epsilon=1e-08, decay=0.0)\n",
    "early_stopping = keras.callbacks.EarlyStopping(monitor=\"val_categorical_accuracy\", mode=\"auto\")"
   ]
  },
  {
   "cell_type": "markdown",
   "metadata": {},
   "source": [
    "**Model**"
   ]
  },
  {
   "cell_type": "code",
   "execution_count": 19,
   "metadata": {},
   "outputs": [],
   "source": [
    "model = Sequential([\n",
    "    Conv2D(filters=32, input_shape=(32, 32, 3), \n",
    "           kernel_size=(5,5), strides=(1,1), padding=\"same\", use_bias=True,\n",
    "           kernel_initializer=w_init, bias_initializer=b_init, activation=\"relu\", name=\"Conv_1\"),\n",
    "    MaxPool2D(pool_size=(2,2), strides=(2,2), name=\"Pool_1\", padding=\"same\"),\n",
    "\n",
    "    Conv2D(filters=64, kernel_size=(5,5), strides=(1,1), padding=\"same\", use_bias=True,\n",
    "           kernel_initializer=w_init, bias_initializer=b_init, activation=\"relu\", name=\"Conv_2\"), \n",
    "    MaxPool2D(pool_size=(2,2), strides=(2,2), name=\"Pool_2\", padding=\"same\"),\n",
    "    \n",
    "    Conv2D(filters=128, kernel_size=(5,5), strides=(1,1), padding=\"same\", use_bias=True,\n",
    "           kernel_initializer=w_init, bias_initializer=b_init, activation=\"relu\", name=\"Conv_3\"), \n",
    "    MaxPool2D(pool_size=(2,2), strides=(2,2), name=\"Pool_3\", padding=\"same\"),\n",
    "    \n",
    "    Flatten(),\n",
    "    \n",
    "    Dense(units=512, use_bias=True, kernel_initializer=w_dense_init, bias_initializer=b_init,\n",
    "         activation=\"relu\", name=\"Dense_2\"),\n",
    "    \n",
    "    Dropout(rate=0.5),\n",
    "    \n",
    "    Dense(units=10, use_bias=True, kernel_initializer=w_dense_init, bias_initializer=b_init,\n",
    "         activation=\"softmax\", name=\"Dense_3\")\n",
    "])\n",
    "\n",
    "model.compile(optimizer=adam, loss=\"categorical_crossentropy\", metrics=[\"categorical_accuracy\"])"
   ]
  },
  {
   "cell_type": "markdown",
   "metadata": {},
   "source": [
    "**Training**"
   ]
  },
  {
   "cell_type": "code",
   "execution_count": 20,
   "metadata": {},
   "outputs": [
    {
     "name": "stdout",
     "output_type": "stream",
     "text": [
      "Train on 42500 samples, validate on 7500 samples\n",
      "Epoch 1/20\n",
      "42500/42500 [==============================] - 387s - loss: 1.5795 - categorical_accuracy: 0.4202 - val_loss: 1.2426 - val_categorical_accuracy: 0.5432\n",
      "Epoch 2/20\n",
      "42500/42500 [==============================] - 376s - loss: 1.1691 - categorical_accuracy: 0.5879 - val_loss: 1.0625 - val_categorical_accuracy: 0.6233\n",
      "Epoch 3/20\n",
      "42500/42500 [==============================] - 393s - loss: 0.9901 - categorical_accuracy: 0.6526 - val_loss: 0.9208 - val_categorical_accuracy: 0.6807\n",
      "Epoch 4/20\n",
      "42500/42500 [==============================] - 357s - loss: 0.8676 - categorical_accuracy: 0.6964 - val_loss: 0.9305 - val_categorical_accuracy: 0.6821\n",
      "Epoch 5/20\n",
      "42500/42500 [==============================] - 368s - loss: 0.7711 - categorical_accuracy: 0.7280 - val_loss: 0.8636 - val_categorical_accuracy: 0.7091\n",
      "Epoch 6/20\n",
      "42500/42500 [==============================] - 406s - loss: 0.6890 - categorical_accuracy: 0.7580 - val_loss: 0.8945 - val_categorical_accuracy: 0.7007\n"
     ]
    },
    {
     "data": {
      "text/plain": [
       "<keras.callbacks.History at 0x12086b588>"
      ]
     },
     "execution_count": 20,
     "metadata": {},
     "output_type": "execute_result"
    }
   ],
   "source": [
    "model.fit(x=x_train, y=y_train, epochs=20, batch_size=32, validation_split=.15, callbacks=[early_stopping])"
   ]
  },
  {
   "cell_type": "markdown",
   "metadata": {},
   "source": [
    "**Evaluation**"
   ]
  },
  {
   "cell_type": "code",
   "execution_count": null,
   "metadata": {},
   "outputs": [],
   "source": [
    "model.evaluate(x=x_test, y=y_test)"
   ]
  },
  {
   "cell_type": "code",
   "execution_count": null,
   "metadata": {
    "scrolled": false
   },
   "outputs": [],
   "source": [
    "server.launch(model, input_folder=\"./img\")"
   ]
  },
  {
   "cell_type": "code",
   "execution_count": null,
   "metadata": {},
   "outputs": [],
   "source": []
  }
 ],
 "metadata": {
  "kernelspec": {
   "display_name": "Python 3",
   "language": "python",
   "name": "python3"
  },
  "language_info": {
   "codemirror_mode": {
    "name": "ipython",
    "version": 3
   },
   "file_extension": ".py",
   "mimetype": "text/x-python",
   "name": "python",
   "nbconvert_exporter": "python",
   "pygments_lexer": "ipython3",
   "version": "3.6.2"
  }
 },
 "nbformat": 4,
 "nbformat_minor": 2
}
