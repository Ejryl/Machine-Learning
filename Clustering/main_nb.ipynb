{
 "cells": [
  {
   "cell_type": "code",
   "execution_count": 30,
   "metadata": {},
   "outputs": [],
   "source": [
    "import numpy as np\n",
    "import matplotlib.pyplot as plt\n",
    "from keras import layers, optimizers, datasets, models, utils, losses\n",
    "import keras.backend as K\n",
    "\n",
    "from sklearn.cluster import KMeans\n",
    "\n",
    "%matplotlib inline"
   ]
  },
  {
   "cell_type": "code",
   "execution_count": 2,
   "metadata": {},
   "outputs": [],
   "source": [
    "# load the mnist dataset\n",
    "(x_train, y_train), (x_test, y_test) = datasets.mnist.load_data()"
   ]
  },
  {
   "cell_type": "code",
   "execution_count": 3,
   "metadata": {},
   "outputs": [],
   "source": [
    "x_train = np.expand_dims(x_train, axis=3) / 255"
   ]
  },
  {
   "cell_type": "code",
   "execution_count": 4,
   "metadata": {},
   "outputs": [
    {
     "data": {
      "text/plain": [
       "(60000, 28, 28, 1)"
      ]
     },
     "execution_count": 4,
     "metadata": {},
     "output_type": "execute_result"
    }
   ],
   "source": [
    "x_train.shape"
   ]
  },
  {
   "cell_type": "code",
   "execution_count": 5,
   "metadata": {},
   "outputs": [],
   "source": [
    "y_train = utils.to_categorical(num_classes=10, y=y_train)"
   ]
  },
  {
   "cell_type": "code",
   "execution_count": 6,
   "metadata": {},
   "outputs": [
    {
     "data": {
      "text/plain": [
       "(60000, 10)"
      ]
     },
     "execution_count": 6,
     "metadata": {},
     "output_type": "execute_result"
    }
   ],
   "source": [
    "y_train.shape"
   ]
  },
  {
   "cell_type": "code",
   "execution_count": 11,
   "metadata": {},
   "outputs": [
    {
     "data": {
      "text/plain": [
       "<matplotlib.image.AxesImage at 0x1a3d3f2f98>"
      ]
     },
     "execution_count": 11,
     "metadata": {},
     "output_type": "execute_result"
    },
    {
     "data": {
      "image/png": "[encoded data removed]",
      "text/plain": [
       "<Figure size 432x288 with 1 Axes>"
      ]
     },
     "metadata": {},
     "output_type": "display_data"
    }
   ],
   "source": [
    "plt.imshow(x_train[0].reshape(28,28))"
   ]
  },
  {
   "cell_type": "markdown",
   "metadata": {},
   "source": [
    "## Encoder"
   ]
  },
  {
   "cell_type": "code",
   "execution_count": 12,
   "metadata": {},
   "outputs": [],
   "source": [
    "import tensorflow as tf"
   ]
  },
  {
   "cell_type": "code",
   "execution_count": 13,
   "metadata": {},
   "outputs": [
    {
     "data": {
      "text/plain": [
       "'1.8.0'"
      ]
     },
     "execution_count": 13,
     "metadata": {},
     "output_type": "execute_result"
    }
   ],
   "source": [
    "tf.__version__"
   ]
  },
  {
   "cell_type": "markdown",
   "metadata": {},
   "source": [
    "## Network Architecture"
   ]
  },
  {
   "cell_type": "code",
   "execution_count": 22,
   "metadata": {},
   "outputs": [],
   "source": [
    "# - - - input image - - -\n",
    "# 28x28x1\n",
    "image_input = layers.Input(shape=(28,28,1))\n",
    "\n",
    "\n",
    "# - - - CNN - - - \n",
    "# first convolution\n",
    "# 14x14x32\n",
    "conv_1 = layers.Conv2D(filters=32, kernel_size=(2,2), strides=(2,2), \n",
    "                       activation=\"relu\", padding=\"valid\", name=\"conv_1\")(image_input)\n",
    "\n",
    "# second convolution\n",
    "# 7x7x64\n",
    "conv_2 = layers.Conv2D(filters=64, kernel_size=(2,2), strides=(2,2), \n",
    "                       activation=\"relu\", padding=\"valid\", name=\"conv_2\")(conv_1)\n",
    "# - - - CNN - - - \n",
    "\n",
    "\n",
    "# - - - Adaptation Layers - - -\n",
    "ada_3 = layers.Conv2D(filters=128, kernel_size=(2,2), strides=(2,2),\n",
    "                     activation=\"relu\", padding=\"same\", name=\"ada_1\")(conv_2)\n",
    "\n",
    "ada_4 = layers.Conv2D(filters=10, kernel_size=(2,2), strides=(2,2),\n",
    "                     activation=\"relu\", padding=\"same\", name=\"ada_2\")(ada_3)\n",
    "# - - - Adaptation Layers - - - \n",
    "\n",
    "\n",
    "# - - - Global Pool - - -\n",
    "global_max_pool = layers.GlobalMaxPool2D()(ada_4)\n",
    "# - - - Global Pool - - -\n",
    "\n",
    "\n",
    "# - - - FC9 - - -\n",
    "fc = layers.Dense(units=10, activation='relu', name='fc')(global_max_pool)\n",
    "# - - - FC9 - - -\n",
    "\n",
    "\n",
    "# - - - SOFTMAX - - -\n",
    "softmax = layers.Dense(units=10, activation='softmax', name='softmax')(fc)\n",
    "# - - - SOFTMAX - - - "
   ]
  },
  {
   "cell_type": "markdown",
   "metadata": {},
   "source": [
    "## Clustering"
   ]
  },
  {
   "cell_type": "code",
   "execution_count": 69,
   "metadata": {},
   "outputs": [],
   "source": [
    "# choose K - (10) random images out of the set to use as initial cluster centroids\n",
    "index_list = np.arange(len(x_train))\n",
    "\n",
    "# get 10 random indices\n",
    "random_indices = np.random.choice(a=index_list, size=10, replace=False)\n",
    "\n",
    "# get the corresponding 10 images\n",
    "initial_random_images = x_train[random_indices]"
   ]
  },
  {
   "cell_type": "code",
   "execution_count": 74,
   "metadata": {},
   "outputs": [
    {
     "name": "stdout",
     "output_type": "stream",
     "text": [
      "[array([[0.0993962 , 0.09743797, 0.10042626, 0.09544402, 0.10214984,\n",
      "        0.09978761, 0.09919276, 0.10160517, 0.10362527, 0.10093486],\n",
      "       [0.09816173, 0.09804703, 0.10208252, 0.09489579, 0.10064311,\n",
      "        0.10103717, 0.09762099, 0.1003456 , 0.10575689, 0.10140911],\n",
      "       [0.09825944, 0.09705887, 0.10286628, 0.09624247, 0.10109445,\n",
      "        0.09952584, 0.09735646, 0.09996649, 0.10616948, 0.10146028],\n",
      "       [0.09835214, 0.09709558, 0.10117301, 0.09520131, 0.10217418,\n",
      "        0.09941957, 0.09852454, 0.10072745, 0.10597577, 0.10135638],\n",
      "       [0.09986276, 0.09996077, 0.10241003, 0.09878333, 0.09976783,\n",
      "        0.09908468, 0.09850895, 0.09944987, 0.10217568, 0.0999961 ],\n",
      "       [0.0973793 , 0.09748007, 0.10256446, 0.09433359, 0.10118397,\n",
      "        0.10021185, 0.09797063, 0.09993662, 0.10761882, 0.10132076],\n",
      "       [0.09771874, 0.09593175, 0.10185733, 0.09505579, 0.10308942,\n",
      "        0.0988765 , 0.09770623, 0.10057365, 0.10768907, 0.10150149],\n",
      "       [0.09944271, 0.09856389, 0.10301622, 0.09620059, 0.10145661,\n",
      "        0.0983841 , 0.09742975, 0.10038991, 0.10434307, 0.10077316],\n",
      "       [0.09849888, 0.09630791, 0.10061838, 0.09670105, 0.10143918,\n",
      "        0.10090016, 0.09842595, 0.10093956, 0.10447746, 0.10169143],\n",
      "       [0.10000089, 0.0998417 , 0.10231487, 0.09723081, 0.10050839,\n",
      "        0.09847932, 0.09831302, 0.09999082, 0.10293359, 0.10038654]],\n",
      "      dtype=float32)]\n"
     ]
    }
   ],
   "source": [
    "# define the K.function to get the centroids\n",
    "ccnn_function = K.function(inputs=[image_input], outputs=[softmax])\n",
    "\n",
    "# get the initial centroids\n",
    "initial_centroids = ccnn_function([initial_random_images])\n",
    "\n",
    "print(initial_centroids)"
   ]
  },
  {
   "cell_type": "code",
   "execution_count": null,
   "metadata": {},
   "outputs": [],
   "source": []
  },
  {
   "cell_type": "code",
   "execution_count": null,
   "metadata": {},
   "outputs": [],
   "source": []
  },
  {
   "cell_type": "code",
   "execution_count": 15,
   "metadata": {},
   "outputs": [],
   "source": [
    "softmax_function = K.function(inputs=[image_input], outputs=[softmax])"
   ]
  },
  {
   "cell_type": "code",
   "execution_count": 25,
   "metadata": {},
   "outputs": [],
   "source": [
    "softmax_output = softmax_function([x_train])"
   ]
  },
  {
   "cell_type": "code",
   "execution_count": 26,
   "metadata": {},
   "outputs": [
    {
     "data": {
      "text/plain": [
       "[array([[0.0982886 , 0.10145692, 0.1016617 , ..., 0.10111842, 0.09826873,\n",
       "         0.10053851],\n",
       "        [0.09861597, 0.10052403, 0.10076124, ..., 0.10163286, 0.09942029,\n",
       "         0.10041249],\n",
       "        [0.09896105, 0.10069171, 0.10061898, ..., 0.10067438, 0.10006679,\n",
       "         0.10051291],\n",
       "        ...,\n",
       "        [0.09894281, 0.10036853, 0.10045855, ..., 0.1010683 , 0.09956541,\n",
       "         0.1008504 ],\n",
       "        [0.09880514, 0.10036381, 0.10073297, ..., 0.10141116, 0.09936204,\n",
       "         0.10023088],\n",
       "        [0.09873741, 0.10029975, 0.10072802, ..., 0.10126453, 0.09964696,\n",
       "         0.10037672]], dtype=float32)]"
      ]
     },
     "execution_count": 26,
     "metadata": {},
     "output_type": "execute_result"
    }
   ],
   "source": [
    "softmax_output"
   ]
  },
  {
   "cell_type": "code",
   "execution_count": 52,
   "metadata": {},
   "outputs": [],
   "source": [
    "one_hot_ccnn_labels = utils.to_categorical(y=np.argmax(softmax_output[0], axis=1), num_classes=10)"
   ]
  },
  {
   "cell_type": "code",
   "execution_count": 53,
   "metadata": {},
   "outputs": [
    {
     "data": {
      "text/plain": [
       "(60000, 10)"
      ]
     },
     "execution_count": 53,
     "metadata": {},
     "output_type": "execute_result"
    }
   ],
   "source": [
    "one_hot_ccnn_labels.shape"
   ]
  },
  {
   "cell_type": "code",
   "execution_count": 27,
   "metadata": {},
   "outputs": [],
   "source": [
    "kmeans = KMeans(n_clusters=10, random_state=42).fit(softmax_output[0])"
   ]
  },
  {
   "cell_type": "code",
   "execution_count": 54,
   "metadata": {},
   "outputs": [],
   "source": [
    "one_hot_kmeans_labels = utils.to_categorical(num_classes=10, y=kmeans.labels_)"
   ]
  },
  {
   "cell_type": "code",
   "execution_count": 55,
   "metadata": {},
   "outputs": [
    {
     "data": {
      "text/plain": [
       "(60000, 10)"
      ]
     },
     "execution_count": 55,
     "metadata": {},
     "output_type": "execute_result"
    }
   ],
   "source": [
    "one_hot_kmeans_labels.shape"
   ]
  },
  {
   "cell_type": "code",
   "execution_count": 56,
   "metadata": {},
   "outputs": [],
   "source": [
    "loss = losses.mean_squared_error(y_pred=one_hot_ccnn_labels, y_true=one_hot_kmeans_labels)"
   ]
  },
  {
   "cell_type": "code",
   "execution_count": 58,
   "metadata": {},
   "outputs": [],
   "source": [
    "model = models.Model(inputs=image_input, outputs=softmax)"
   ]
  },
  {
   "cell_type": "code",
   "execution_count": 61,
   "metadata": {},
   "outputs": [
    {
     "ename": "TypeError",
     "evalue": "Using a `tf.Tensor` as a Python `bool` is not allowed. Use `if t is not None:` instead of `if t:` to test if a tensor is defined, and use TensorFlow ops such as tf.cond to execute subgraphs conditioned on the value of a tensor.",
     "output_type": "error",
     "traceback": [
      "\u001b[0;31m---------------------------------------------------------------------------\u001b[0m",
      "\u001b[0;31mTypeError\u001b[0m                                 Traceback (most recent call last)",
      "\u001b[0;32m<ipython-input-61-6815289d8a35>\u001b[0m in \u001b[0;36m<module>\u001b[0;34m()\u001b[0m\n\u001b[0;32m----> 1\u001b[0;31m \u001b[0mmodel\u001b[0m\u001b[0;34m.\u001b[0m\u001b[0mcompile\u001b[0m\u001b[0;34m(\u001b[0m\u001b[0mloss\u001b[0m\u001b[0;34m=\u001b[0m\u001b[0mloss\u001b[0m\u001b[0;34m,\u001b[0m \u001b[0moptimizer\u001b[0m\u001b[0;34m=\u001b[0m\u001b[0;34m'adam'\u001b[0m\u001b[0;34m)\u001b[0m\u001b[0;34m\u001b[0m\u001b[0m\n\u001b[0m",
      "\u001b[0;32m~/anaconda3/envs/py3/lib/python3.6/site-packages/keras/engine/training.py\u001b[0m in \u001b[0;36mcompile\u001b[0;34m(self, optimizer, loss, metrics, loss_weights, sample_weight_mode, weighted_metrics, target_tensors, **kwargs)\u001b[0m\n\u001b[1;32m     93\u001b[0m         \"\"\"\n\u001b[1;32m     94\u001b[0m         \u001b[0mself\u001b[0m\u001b[0;34m.\u001b[0m\u001b[0moptimizer\u001b[0m \u001b[0;34m=\u001b[0m \u001b[0moptimizers\u001b[0m\u001b[0;34m.\u001b[0m\u001b[0mget\u001b[0m\u001b[0;34m(\u001b[0m\u001b[0moptimizer\u001b[0m\u001b[0;34m)\u001b[0m\u001b[0;34m\u001b[0m\u001b[0m\n\u001b[0;32m---> 95\u001b[0;31m         \u001b[0mself\u001b[0m\u001b[0;34m.\u001b[0m\u001b[0mloss\u001b[0m \u001b[0;34m=\u001b[0m \u001b[0mloss\u001b[0m \u001b[0;32mor\u001b[0m \u001b[0;34m[\u001b[0m\u001b[0;34m]\u001b[0m\u001b[0;34m\u001b[0m\u001b[0m\n\u001b[0m\u001b[1;32m     96\u001b[0m         \u001b[0mself\u001b[0m\u001b[0;34m.\u001b[0m\u001b[0mmetrics\u001b[0m \u001b[0;34m=\u001b[0m \u001b[0mmetrics\u001b[0m \u001b[0;32mor\u001b[0m \u001b[0;34m[\u001b[0m\u001b[0;34m]\u001b[0m\u001b[0;34m\u001b[0m\u001b[0m\n\u001b[1;32m     97\u001b[0m         \u001b[0mself\u001b[0m\u001b[0;34m.\u001b[0m\u001b[0mloss_weights\u001b[0m \u001b[0;34m=\u001b[0m \u001b[0mloss_weights\u001b[0m\u001b[0;34m\u001b[0m\u001b[0m\n",
      "\u001b[0;32m~/anaconda3/envs/py3/lib/python3.6/site-packages/tensorflow/python/framework/ops.py\u001b[0m in \u001b[0;36m__bool__\u001b[0;34m(self)\u001b[0m\n\u001b[1;32m    666\u001b[0m       \u001b[0;31m`\u001b[0m\u001b[0mTypeError\u001b[0m\u001b[0;31m`\u001b[0m\u001b[0;34m.\u001b[0m\u001b[0;34m\u001b[0m\u001b[0m\n\u001b[1;32m    667\u001b[0m     \"\"\"\n\u001b[0;32m--> 668\u001b[0;31m     raise TypeError(\"Using a `tf.Tensor` as a Python `bool` is not allowed. \"\n\u001b[0m\u001b[1;32m    669\u001b[0m                     \u001b[0;34m\"Use `if t is not None:` instead of `if t:` to test if a \"\u001b[0m\u001b[0;34m\u001b[0m\u001b[0m\n\u001b[1;32m    670\u001b[0m                     \u001b[0;34m\"tensor is defined, and use TensorFlow ops such as \"\u001b[0m\u001b[0;34m\u001b[0m\u001b[0m\n",
      "\u001b[0;31mTypeError\u001b[0m: Using a `tf.Tensor` as a Python `bool` is not allowed. Use `if t is not None:` instead of `if t:` to test if a tensor is defined, and use TensorFlow ops such as tf.cond to execute subgraphs conditioned on the value of a tensor."
     ]
    }
   ],
   "source": [
    "model.compile(loss=loss, optimizer='adam')"
   ]
  },
  {
   "cell_type": "code",
   "execution_count": null,
   "metadata": {},
   "outputs": [],
   "source": []
  }
 ],
 "metadata": {
  "kernelspec": {
   "display_name": "Python 3",
   "language": "python",
   "name": "python3"
  },
  "language_info": {
   "codemirror_mode": {
    "name": "ipython",
    "version": 3
   },
   "file_extension": ".py",
   "mimetype": "text/x-python",
   "name": "python",
   "nbconvert_exporter": "python",
   "pygments_lexer": "ipython3",
   "version": "3.6.5"
  }
 },
 "nbformat": 4,
 "nbformat_minor": 2
}
