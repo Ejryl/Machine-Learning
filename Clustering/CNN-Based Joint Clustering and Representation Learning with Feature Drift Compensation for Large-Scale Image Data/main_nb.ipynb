{
 "cells": [
  {
   "cell_type": "code",
   "execution_count": 1,
   "metadata": {},
   "outputs": [
    {
     "name": "stderr",
     "output_type": "stream",
     "text": [
      "Using TensorFlow backend.\n"
     ]
    }
   ],
   "source": [
    "import numpy as np\n",
    "import matplotlib.pyplot as plt\n",
    "from keras import layers, optimizers, datasets, models, utils, losses, callbacks\n",
    "import keras.backend as K\n",
    "from scipy.spatial.distance import euclidean\n",
    "from sklearn.cluster import KMeans\n",
    "from tqdm import tqdm\n",
    "\n",
    "%matplotlib inline"
   ]
  },
  {
   "cell_type": "code",
   "execution_count": 2,
   "metadata": {},
   "outputs": [],
   "source": [
    "# load the mnist dataset\n",
    "(x_train, y_train), (x_test, y_test) = datasets.mnist.load_data()"
   ]
  },
  {
   "cell_type": "code",
   "execution_count": 3,
   "metadata": {},
   "outputs": [],
   "source": [
    "x_train = np.expand_dims(x_train, axis=3) / 255"
   ]
  },
  {
   "cell_type": "code",
   "execution_count": 4,
   "metadata": {},
   "outputs": [
    {
     "data": {
      "text/plain": [
       "(60000, 28, 28, 1)"
      ]
     },
     "execution_count": 4,
     "metadata": {},
     "output_type": "execute_result"
    }
   ],
   "source": [
    "x_train.shape"
   ]
  },
  {
   "cell_type": "code",
   "execution_count": 5,
   "metadata": {},
   "outputs": [],
   "source": [
    "# y_train = utils.to_categorical(num_classes=10, y=y_train)"
   ]
  },
  {
   "cell_type": "code",
   "execution_count": 6,
   "metadata": {},
   "outputs": [],
   "source": [
    "# y_train.shape"
   ]
  },
  {
   "cell_type": "code",
   "execution_count": 7,
   "metadata": {},
   "outputs": [
    {
     "data": {
      "text/plain": [
       "<matplotlib.image.AxesImage at 0x29a98d28a20>"
      ]
     },
     "execution_count": 7,
     "metadata": {},
     "output_type": "execute_result"
    },
    {
     "data": {
      "image/png": "[encoded data removed]",
      "text/plain": [
       "<Figure size 432x288 with 1 Axes>"
      ]
     },
     "metadata": {},
     "output_type": "display_data"
    }
   ],
   "source": [
    "plt.imshow(x_train[0].reshape(28,28))"
   ]
  },
  {
   "cell_type": "markdown",
   "metadata": {},
   "source": [
    "## Encoder"
   ]
  },
  {
   "cell_type": "code",
   "execution_count": 8,
   "metadata": {},
   "outputs": [],
   "source": [
    "import tensorflow as tf"
   ]
  },
  {
   "cell_type": "code",
   "execution_count": 9,
   "metadata": {},
   "outputs": [
    {
     "data": {
      "text/plain": [
       "'1.8.0'"
      ]
     },
     "execution_count": 9,
     "metadata": {},
     "output_type": "execute_result"
    }
   ],
   "source": [
    "tf.__version__"
   ]
  },
  {
   "cell_type": "markdown",
   "metadata": {},
   "source": [
    "## Network Architecture"
   ]
  },
  {
   "cell_type": "markdown",
   "metadata": {},
   "source": [
    "### Initialize the CNN"
   ]
  },
  {
   "cell_type": "code",
   "execution_count": 10,
   "metadata": {},
   "outputs": [],
   "source": [
    "# - - - input image - - -\n",
    "# 28x28x1\n",
    "image_input = layers.Input(shape=(28,28,1))\n",
    "\n",
    "\n",
    "# - - - CNN - - - \n",
    "# first convolution\n",
    "# 14x14x32\n",
    "conv_1 = layers.Conv2D(filters=32, kernel_size=(2,2), strides=(2,2), \n",
    "                       activation=\"relu\", padding=\"valid\", name=\"conv_1\")(image_input)\n",
    "\n",
    "# second convolution\n",
    "# 7x7x64\n",
    "conv_2 = layers.Conv2D(filters=64, kernel_size=(2,2), strides=(2,2), \n",
    "                       activation=\"relu\", padding=\"valid\", name=\"conv_2\")(conv_1)\n",
    "# - - - CNN - - - \n",
    "\n",
    "\n",
    "# - - - Adaptation Layers - - -\n",
    "ada_3 = layers.Conv2D(filters=128, kernel_size=(2,2), strides=(2,2),\n",
    "                     activation=\"relu\", padding=\"same\", name=\"ada_1\")(conv_2)\n",
    "\n",
    "ada_4 = layers.Conv2D(filters=10, kernel_size=(2,2), strides=(2,2),\n",
    "                     activation=\"relu\", padding=\"same\", name=\"ada_2\")(ada_3)\n",
    "# - - - Adaptation Layers - - - \n",
    "\n",
    "\n",
    "# - - - Global Pool - - -\n",
    "global_max_pool = layers.GlobalMaxPool2D()(ada_4)\n",
    "# - - - Global Pool - - -\n",
    "\n",
    "\n",
    "# - - - FC9 - - -\n",
    "fc = layers.Dense(units=10, activation='relu', name='fc')(global_max_pool)\n",
    "# - - - FC9 - - -\n",
    "\n",
    "\n",
    "# - - - SOFTMAX - - -\n",
    "softmax = layers.Dense(units=10, activation='softmax', name='softmax')(fc)\n",
    "# - - - SOFTMAX - - - "
   ]
  },
  {
   "cell_type": "markdown",
   "metadata": {},
   "source": [
    "### Forward pass of the K randomly selected images"
   ]
  },
  {
   "cell_type": "code",
   "execution_count": 11,
   "metadata": {},
   "outputs": [],
   "source": [
    "# choose K - (10) random images out of the set to use as initial cluster centroids\n",
    "index_list = np.arange(len(x_train))\n",
    "\n",
    "# get 10 random indices\n",
    "random_indices = np.random.choice(a=index_list, size=10, replace=False)\n",
    "\n",
    "# get the corresponding 10 images\n",
    "initial_random_images = x_train[random_indices]"
   ]
  },
  {
   "cell_type": "code",
   "execution_count": 12,
   "metadata": {},
   "outputs": [
    {
     "name": "stdout",
     "output_type": "stream",
     "text": [
      "[5 5 5 5 5 5 5 5 5 5]\n"
     ]
    }
   ],
   "source": [
    "# define the K.function to get the centroids\n",
    "ccnn_function = K.function(inputs=[image_input], outputs=[softmax])\n",
    "\n",
    "# get the initial centroids\n",
    "initial_centroids_features = ccnn_function([initial_random_images])[0]\n",
    "\n",
    "# get the labels of the initial centroids\n",
    "# ARGMAX since softmax outputs the probabilities\n",
    "ccnn_initial_labels = np.argmax(initial_centroids_features, 1)\n",
    "\n",
    "print(ccnn_initial_labels)"
   ]
  },
  {
   "cell_type": "markdown",
   "metadata": {},
   "source": [
    "### Forward pass of the rest of the data"
   ]
  },
  {
   "cell_type": "code",
   "execution_count": 13,
   "metadata": {},
   "outputs": [],
   "source": [
    "# create the mask to drop the initial indices\n",
    "mask = np.ones(shape=index_list.shape)\n",
    "mask[random_indices] = False\n",
    "\n",
    "# get the other images tensor\n",
    "other_images = x_train[mask.astype(np.bool)]"
   ]
  },
  {
   "cell_type": "code",
   "execution_count": 14,
   "metadata": {},
   "outputs": [],
   "source": [
    "# forward pass the rest of the images\n",
    "other_images_features = ccnn_function([other_images])[0]"
   ]
  },
  {
   "cell_type": "code",
   "execution_count": 15,
   "metadata": {},
   "outputs": [],
   "source": [
    "# get the labels of the other images based on the CNN\n",
    "other_images_labels_cnn = np.argmax(other_images_features, 1)"
   ]
  },
  {
   "cell_type": "code",
   "execution_count": 38,
   "metadata": {},
   "outputs": [],
   "source": [
    "# get the labels of the other images based on how close they are to the initial k images\n",
    "other_images_labels_kmeans = np.array([np.argmin(np.square([euclidean(u=centroid, v=feature) for centroid in initial_centroids_features])) for feature in other_images_features])"
   ]
  },
  {
   "cell_type": "code",
   "execution_count": null,
   "metadata": {},
   "outputs": [],
   "source": []
  },
  {
   "cell_type": "code",
   "execution_count": 56,
   "metadata": {},
   "outputs": [],
   "source": []
  },
  {
   "cell_type": "code",
   "execution_count": 77,
   "metadata": {},
   "outputs": [],
   "source": [
    "# assign clusters function\n",
    "def assign_clusters(population, labels):\n",
    "    clusters = list()\n",
    "    counts = list()\n",
    "    for i in range(10):\n",
    "        clusters.append(population[labels==i])\n",
    "        counts.append(len(population[labels==i]))\n",
    "    return np.array(clusters), np.array(counts)"
   ]
  },
  {
   "cell_type": "code",
   "execution_count": 78,
   "metadata": {},
   "outputs": [],
   "source": [
    "# get the clusters\n",
    "clusters, counts = assign_clusters(other_images, other_images_labels_kmeans)\n",
    "\n",
    "# get gammas\n",
    "gammas = 1 / counts"
   ]
  },
  {
   "cell_type": "code",
   "execution_count": 79,
   "metadata": {},
   "outputs": [
    {
     "data": {
      "text/plain": [
       "array([0.00032552, 0.00053706, 0.00016215, 0.00011266, 0.00015743,\n",
       "       0.00011682, 0.00018002, 0.00015466, 0.0001261 , 0.00019417])"
      ]
     },
     "execution_count": 79,
     "metadata": {},
     "output_type": "execute_result"
    }
   ],
   "source": [
    "gammas"
   ]
  },
  {
   "cell_type": "code",
   "execution_count": null,
   "metadata": {},
   "outputs": [],
   "source": []
  },
  {
   "cell_type": "code",
   "execution_count": null,
   "metadata": {},
   "outputs": [],
   "source": []
  },
  {
   "cell_type": "code",
   "execution_count": null,
   "metadata": {},
   "outputs": [],
   "source": []
  },
  {
   "cell_type": "code",
   "execution_count": null,
   "metadata": {},
   "outputs": [],
   "source": []
  },
  {
   "cell_type": "code",
   "execution_count": null,
   "metadata": {},
   "outputs": [],
   "source": []
  },
  {
   "cell_type": "code",
   "execution_count": null,
   "metadata": {},
   "outputs": [],
   "source": []
  },
  {
   "cell_type": "code",
   "execution_count": 35,
   "metadata": {},
   "outputs": [
    {
     "data": {
      "text/plain": [
       "array([[0.10045008, 0.10724869, 0.09941763, 0.09242852, 0.09693871,\n",
       "        0.10876527, 0.1009519 , 0.09527495, 0.09941535, 0.09910887],\n",
       "       [0.09992541, 0.10478106, 0.10118383, 0.0939213 , 0.09700783,\n",
       "        0.10583025, 0.1030646 , 0.09574567, 0.09975309, 0.09878699],\n",
       "       [0.10042609, 0.10183724, 0.10010215, 0.09679455, 0.09908783,\n",
       "        0.10298848, 0.10010608, 0.09841885, 0.1007    , 0.09953874],\n",
       "       [0.10006337, 0.10267527, 0.10077581, 0.09489261, 0.09771559,\n",
       "        0.10446461, 0.10157785, 0.09804267, 0.10113981, 0.09865239],\n",
       "       [0.10003076, 0.10438261, 0.10049063, 0.09429134, 0.09713965,\n",
       "        0.10549877, 0.10191015, 0.09708996, 0.0999963 , 0.09916976],\n",
       "       [0.09984685, 0.10503259, 0.09944881, 0.09327354, 0.09694659,\n",
       "        0.10684235, 0.09990719, 0.09799623, 0.10174733, 0.09895865],\n",
       "       [0.10047275, 0.10578577, 0.09985535, 0.09377382, 0.09443211,\n",
       "        0.10689691, 0.10409394, 0.09689356, 0.09834962, 0.09944613],\n",
       "       [0.10070892, 0.1041219 , 0.09887309, 0.09418121, 0.09526329,\n",
       "        0.10592236, 0.10100421, 0.0997511 , 0.10003637, 0.10013755],\n",
       "       [0.09989581, 0.10175674, 0.09998266, 0.09574301, 0.0989058 ,\n",
       "        0.10390878, 0.09961523, 0.10071993, 0.10118584, 0.09828626],\n",
       "       [0.10078646, 0.10244372, 0.09909923, 0.09679386, 0.09814025,\n",
       "        0.1035134 , 0.09991277, 0.09870575, 0.10037821, 0.10022641]],\n",
       "      dtype=float32)"
      ]
     },
     "execution_count": 35,
     "metadata": {},
     "output_type": "execute_result"
    }
   ],
   "source": [
    "initial_centroids_features"
   ]
  },
  {
   "cell_type": "code",
   "execution_count": null,
   "metadata": {},
   "outputs": [],
   "source": []
  },
  {
   "cell_type": "markdown",
   "metadata": {},
   "source": [
    "### Train the CNN"
   ]
  },
  {
   "cell_type": "code",
   "execution_count": 17,
   "metadata": {},
   "outputs": [],
   "source": [
    "# one hot encode the labels\n",
    "other_images_labels_kmeans_onehot = utils.to_categorical(y=other_images_labels_kmeans, num_classes=10)\n",
    "other_images_labels_cnn_onehot = utils.to_categorical(y=other_images_labels_cnn, num_classes=10)"
   ]
  },
  {
   "cell_type": "code",
   "execution_count": 18,
   "metadata": {},
   "outputs": [
    {
     "data": {
      "text/plain": [
       "array([[0., 0., 0., 0., 0., 1., 0., 0., 0., 0.],\n",
       "       [0., 0., 0., 0., 0., 1., 0., 0., 0., 0.],\n",
       "       [0., 0., 0., 0., 0., 1., 0., 0., 0., 0.],\n",
       "       [0., 0., 0., 0., 0., 1., 0., 0., 0., 0.],\n",
       "       [0., 0., 0., 0., 0., 0., 0., 0., 1., 0.]], dtype=float32)"
      ]
     },
     "execution_count": 18,
     "metadata": {},
     "output_type": "execute_result"
    }
   ],
   "source": [
    "other_images_labels_cnn_onehot[:5]"
   ]
  },
  {
   "cell_type": "code",
   "execution_count": 19,
   "metadata": {},
   "outputs": [
    {
     "data": {
      "text/plain": [
       "array([[0., 0., 0., 0., 0., 0., 0., 1., 0., 0.],\n",
       "       [0., 0., 0., 1., 0., 0., 0., 0., 0., 0.],\n",
       "       [0., 0., 0., 1., 0., 0., 0., 0., 0., 0.],\n",
       "       [0., 0., 0., 0., 1., 0., 0., 0., 0., 0.],\n",
       "       [0., 0., 0., 0., 0., 0., 0., 0., 1., 0.]], dtype=float32)"
      ]
     },
     "execution_count": 19,
     "metadata": {},
     "output_type": "execute_result"
    }
   ],
   "source": [
    "other_images_labels_kmeans_onehot[:5]"
   ]
  },
  {
   "cell_type": "code",
   "execution_count": 20,
   "metadata": {},
   "outputs": [
    {
     "name": "stdout",
     "output_type": "stream",
     "text": [
      "Train on 47992 samples, validate on 11998 samples\n",
      "Epoch 1/10\n",
      "47992/47992 [==============================] - 21s 434us/step - loss: 2.2834 - acc: 0.1495 - val_loss: 2.2706 - val_acc: 0.1438\n",
      "Epoch 2/10\n",
      "47992/47992 [==============================] - 17s 360us/step - loss: 2.2602 - acc: 0.1426 - val_loss: 2.2484 - val_acc: 0.1434\n",
      "Epoch 3/10\n",
      "47992/47992 [==============================] - 16s 335us/step - loss: 2.2381 - acc: 0.1425 - val_loss: 2.2248 - val_acc: 0.1434\n",
      "Epoch 4/10\n",
      "47992/47992 [==============================] - 16s 331us/step - loss: 2.2110 - acc: 0.1441 - val_loss: 2.1931 - val_acc: 0.1513\n",
      "Epoch 5/10\n",
      "47992/47992 [==============================] - 16s 327us/step - loss: 2.1711 - acc: 0.1688 - val_loss: 2.1443 - val_acc: 0.1969\n",
      "Epoch 6/10\n",
      "47992/47992 [==============================] - 16s 327us/step - loss: 2.1088 - acc: 0.2366 - val_loss: 2.0693 - val_acc: 0.2814\n",
      "Epoch 7/10\n",
      "47992/47992 [==============================] - 16s 331us/step - loss: 2.0222 - acc: 0.3352 - val_loss: 1.9739 - val_acc: 0.3679\n",
      "Epoch 8/10\n",
      "47992/47992 [==============================] - 15s 306us/step - loss: 1.9210 - acc: 0.3861 - val_loss: 1.8691 - val_acc: 0.4012\n",
      "Epoch 9/10\n",
      "47992/47992 [==============================] - 15s 305us/step - loss: 1.8160 - acc: 0.4074 - val_loss: 1.7650 - val_acc: 0.4175\n",
      "Epoch 10/10\n",
      "47992/47992 [==============================] - 16s 325us/step - loss: 1.7129 - acc: 0.4223 - val_loss: 1.6624 - val_acc: 0.4337\n"
     ]
    },
    {
     "data": {
      "text/plain": [
       "<keras.callbacks.History at 0x29a923cddd8>"
      ]
     },
     "execution_count": 20,
     "metadata": {},
     "output_type": "execute_result"
    }
   ],
   "source": [
    "# define the keras model\n",
    "model = models.Model(inputs=image_input, outputs=softmax)\n",
    "\n",
    "# define metrics\n",
    "metrics = [\"accuracy\"]\n",
    "\n",
    "# define callbacks\n",
    "early_stopping = callbacks.EarlyStopping(monitor='val_loss', patience=5, verbose=1)\n",
    "callbacks_ = [early_stopping]\n",
    "\n",
    "# compile the model\n",
    "model.compile(loss=losses.categorical_crossentropy, optimizer=optimizers.SGD(lr=0.001), metrics=metrics)\n",
    "\n",
    "# fit the model\n",
    "model.fit(x=other_images, y=other_images_labels_kmeans_onehot, validation_split=0.20, epochs=10, verbose=1, callbacks=callbacks_)"
   ]
  },
  {
   "cell_type": "markdown",
   "metadata": {},
   "source": [
    "### Update the centroids"
   ]
  },
  {
   "cell_type": "code",
   "execution_count": 42,
   "metadata": {},
   "outputs": [],
   "source": [
    "# old centroids are initial random centroids\n",
    "new_features = ccnn_function([x_train])[0]\n",
    "\n",
    "assign_clusters(labels=)"
   ]
  },
  {
   "cell_type": "code",
   "execution_count": 82,
   "metadata": {},
   "outputs": [],
   "source": [
    "new_features_labels_kmeans = np.array([np.argmin(np.square([euclidean(u=centroid, v=feature) \n",
    "                                                            for centroid in initial_centroids_features])) \n",
    "                                       for feature in new_features])"
   ]
  },
  {
   "cell_type": "code",
   "execution_count": 83,
   "metadata": {},
   "outputs": [
    {
     "data": {
      "text/plain": [
       "(array([array([[3.0271928e-13, 9.9371147e-01, 1.3544607e-07, ..., 2.2013427e-15,\n",
       "         4.4605062e-32, 2.4998013e-15],\n",
       "        [5.8251684e-16, 9.9989748e-01, 9.3301822e-10, ..., 3.0013701e-21,\n",
       "         1.9749419e-37, 2.4754146e-13],\n",
       "        [5.6486736e-27, 9.9977177e-01, 2.2826542e-04, ..., 3.5428783e-14,\n",
       "         4.1846095e-28, 5.4270752e-09],\n",
       "        ...,\n",
       "        [4.3052052e-11, 9.1309220e-01, 4.6314560e-02, ..., 1.1433909e-07,\n",
       "         1.9020744e-23, 1.1400284e-11],\n",
       "        [1.3490844e-14, 9.3835515e-01, 6.1226439e-02, ..., 1.3700715e-07,\n",
       "         5.3405797e-21, 2.6691287e-09],\n",
       "        [4.0583309e-12, 9.9305677e-01, 5.2689834e-06, ..., 7.8028267e-10,\n",
       "         1.2839010e-22, 8.5652423e-12]], dtype=float32),\n",
       "        array([[1.5657682e-18, 6.4390339e-02, 9.3560296e-01, ..., 5.9099953e-06,\n",
       "         8.0431755e-19, 2.8349351e-08],\n",
       "        [1.4065014e-23, 7.1102608e-05, 9.9907279e-01, ..., 8.5573184e-04,\n",
       "         6.3414636e-16, 7.1332330e-08],\n",
       "        [3.8415689e-15, 4.8885614e-02, 9.5105809e-01, ..., 4.3581407e-05,\n",
       "         1.7220443e-16, 1.7032789e-07],\n",
       "        ...,\n",
       "        [7.3449406e-12, 3.5688186e-01, 6.3849491e-01, ..., 1.1362380e-06,\n",
       "         6.9089079e-25, 9.1543743e-13],\n",
       "        [4.6785909e-19, 4.7998246e-02, 9.5199955e-01, ..., 1.2153045e-06,\n",
       "         4.0919632e-19, 4.1840259e-08],\n",
       "        [1.0142114e-06, 1.2821208e-01, 1.5418636e-06, ..., 1.6348921e-12,\n",
       "         8.3990621e-27, 4.3166480e-14]], dtype=float32),\n",
       "        array([[6.3709657e-16, 2.7621627e-12, 9.1412730e-33, ..., 0.0000000e+00,\n",
       "         0.0000000e+00, 0.0000000e+00],\n",
       "        [2.5288810e-07, 1.4023069e-06, 1.0009086e-15, ..., 1.4051784e-23,\n",
       "         0.0000000e+00, 2.0454632e-26],\n",
       "        [2.2799550e-10, 1.2909078e-11, 6.9519415e-27, ..., 2.0839752e-37,\n",
       "         0.0000000e+00, 4.0218341e-34],\n",
       "        ...,\n",
       "        [1.4854656e-18, 5.4638651e-05, 6.3112043e-25, ..., 2.2551180e-38,\n",
       "         0.0000000e+00, 9.8724070e-27],\n",
       "        [5.1577877e-07, 2.6173391e-03, 1.9629882e-09, ..., 1.2487783e-15,\n",
       "         4.0011179e-33, 1.1347268e-19],\n",
       "        [1.3860019e-10, 2.5574755e-12, 7.4502301e-29, ..., 1.7477799e-38,\n",
       "         0.0000000e+00, 2.1469000e-35]], dtype=float32),\n",
       "        array([[8.25898896e-05, 8.71504471e-06, 7.84587562e-01, ...,\n",
       "         2.06897363e-01, 1.15033927e-19, 1.71592172e-14],\n",
       "        [4.11776125e-12, 1.53512906e-06, 7.69027531e-01, ...,\n",
       "         2.14381739e-01, 1.63434001e-16, 1.31123515e-11],\n",
       "        [1.86311795e-38, 2.29559177e-10, 8.36994052e-01, ...,\n",
       "         1.49597228e-01, 5.81331649e-11, 1.58266960e-06],\n",
       "        ...,\n",
       "        [1.29439209e-20, 2.07052636e-07, 8.25043201e-01, ...,\n",
       "         1.68367803e-01, 4.50126331e-16, 1.36328268e-10],\n",
       "        [1.20125379e-19, 3.41284135e-07, 7.94409096e-01, ...,\n",
       "         1.97755381e-01, 4.55535166e-16, 1.13600046e-10],\n",
       "        [1.85447421e-11, 2.10291137e-06, 7.96913505e-01, ...,\n",
       "         1.91375285e-01, 2.78002434e-17, 4.68337522e-12]], dtype=float32),\n",
       "        array([], shape=(0, 10), dtype=float32),\n",
       "        array([], shape=(0, 10), dtype=float32),\n",
       "        array([[6.2042000e-07, 6.0353335e-03, 1.3699838e-07, ..., 5.3943558e-14,\n",
       "         2.8325949e-34, 3.2674419e-20],\n",
       "        [2.3914455e-04, 4.7952153e-02, 4.9647351e-04, ..., 2.3326734e-09,\n",
       "         3.8752713e-28, 4.2941444e-16],\n",
       "        [5.3368949e-05, 3.7441188e-01, 4.6892243e-04, ..., 1.3744452e-12,\n",
       "         9.2257784e-35, 4.9907062e-17],\n",
       "        ...,\n",
       "        [2.2268154e-05, 1.0319911e-02, 1.2087944e-04, ..., 1.1657311e-10,\n",
       "         3.1822556e-29, 4.3296731e-17],\n",
       "        [3.9755066e-09, 5.8819228e-01, 3.2065529e-06, ..., 1.1385634e-12,\n",
       "         5.0265532e-29, 8.8312316e-15],\n",
       "        [5.4250204e-09, 4.5508286e-01, 9.9928002e-08, ..., 1.8985119e-16,\n",
       "         6.3541434e-34, 3.8638811e-16]], dtype=float32),\n",
       "        array([[2.8574713e-17, 1.0179176e-08, 6.0651872e-02, ..., 5.5337006e-01,\n",
       "         3.3178511e-16, 2.1605489e-12],\n",
       "        [5.7801863e-38, 1.1640251e-11, 5.0249942e-02, ..., 3.7509072e-01,\n",
       "         2.7343716e-10, 3.0279426e-07],\n",
       "        [1.3577626e-28, 5.9569094e-10, 1.7658280e-01, ..., 4.6997851e-01,\n",
       "         1.1435569e-11, 1.8922833e-08],\n",
       "        ...,\n",
       "        [6.1670647e-30, 2.5744282e-10, 7.5936601e-02, ..., 4.1584298e-01,\n",
       "         1.0185804e-10, 5.3028511e-08],\n",
       "        [2.6436335e-13, 5.1506763e-08, 1.2892871e-01, ..., 5.0220788e-01,\n",
       "         5.5776055e-16, 3.5875168e-12],\n",
       "        [1.3291751e-17, 8.9915968e-09, 9.9615999e-02, ..., 5.2314854e-01,\n",
       "         5.2923249e-16, 4.6001835e-12]], dtype=float32),\n",
       "        array([[2.30029416e-17, 2.09144729e-10, 5.87306917e-01, ...,\n",
       "         3.29858005e-01, 1.66382500e-18, 8.24599449e-15],\n",
       "        [1.13238304e-35, 1.80506488e-09, 5.33655941e-01, ...,\n",
       "         4.06631917e-01, 4.83944308e-11, 1.39881251e-06],\n",
       "        [9.52733304e-34, 1.23485638e-10, 1.04601875e-01, ...,\n",
       "         5.71930707e-01, 5.80890533e-13, 5.80630299e-09],\n",
       "        ...,\n",
       "        [2.27805730e-12, 6.01426734e-07, 5.86857557e-01, ...,\n",
       "         3.57664138e-01, 3.46548231e-16, 1.05817178e-11],\n",
       "        [4.95713977e-23, 2.15171401e-08, 5.93916774e-01, ...,\n",
       "         3.50069195e-01, 1.98938918e-14, 7.68787201e-10],\n",
       "        [7.21068560e-17, 1.48645057e-07, 4.86175478e-01, ...,\n",
       "         4.27495480e-01, 3.28949163e-15, 8.50397391e-11]], dtype=float32),\n",
       "        array([[1.0000000e+00, 7.7991941e-14, 1.3099767e-20, ..., 6.7785256e-33,\n",
       "         0.0000000e+00, 0.0000000e+00],\n",
       "        [9.9999928e-01, 3.3198307e-12, 2.0164294e-21, ..., 6.5109085e-34,\n",
       "         0.0000000e+00, 2.3133826e-36],\n",
       "        [9.9999928e-01, 8.3837069e-12, 5.8082865e-20, ..., 1.0321476e-31,\n",
       "         0.0000000e+00, 2.7266450e-34],\n",
       "        ...,\n",
       "        [3.4773110e-22, 1.8964738e-01, 2.3289012e-20, ..., 1.0903389e-29,\n",
       "         0.0000000e+00, 1.4764857e-23],\n",
       "        [2.6402255e-17, 3.6844474e-01, 4.4221694e-17, ..., 1.3730564e-27,\n",
       "         0.0000000e+00, 4.0893328e-20],\n",
       "        [5.4017523e-24, 1.1037725e-01, 1.9699045e-22, ..., 1.4643409e-34,\n",
       "         0.0000000e+00, 9.0993988e-23]], dtype=float32)], dtype=object),\n",
       " array([18655, 13642, 11883,   512,     0,     0,  7459,   689,  1951,\n",
       "         5209]))"
      ]
     },
     "execution_count": 83,
     "metadata": {},
     "output_type": "execute_result"
    }
   ],
   "source": [
    "assign_clusters(new_features, new_features_labels_kmeans)"
   ]
  },
  {
   "cell_type": "code",
   "execution_count": null,
   "metadata": {},
   "outputs": [],
   "source": []
  },
  {
   "cell_type": "markdown",
   "metadata": {},
   "source": [
    "### Forward pass the images"
   ]
  },
  {
   "cell_type": "code",
   "execution_count": 21,
   "metadata": {},
   "outputs": [
    {
     "name": "stderr",
     "output_type": "stream",
     "text": [
      "100%|█████████████████████████████████████████████████████████████████████████████████| 10/10 [24:58<00:00, 149.90s/it]\n"
     ]
    }
   ],
   "source": [
    "for t in tqdm(range(10)):\n",
    "    \n",
    "    # get the new feature vector by forward pass of the CNN\n",
    "    new_features = ccnn_function([x_train])[0]\n",
    "    \n",
    "    # form new clusters\n",
    "    kmeans = KMeans(n_clusters=10).fit(new_features)\n",
    "    \n",
    "    # get the new labels\n",
    "    labels_kmeans_onehot = utils.to_categorical(y=kmeans.labels_, num_classes=10)\n",
    "    \n",
    "    # fit the model\n",
    "    model.fit(x=x_train, y=labels_kmeans_onehot, \n",
    "              validation_split=0.20, epochs=10, verbose=0, \n",
    "              callbacks=callbacks_)"
   ]
  },
  {
   "cell_type": "code",
   "execution_count": null,
   "metadata": {},
   "outputs": [],
   "source": []
  },
  {
   "cell_type": "code",
   "execution_count": null,
   "metadata": {},
   "outputs": [],
   "source": []
  },
  {
   "cell_type": "code",
   "execution_count": null,
   "metadata": {},
   "outputs": [],
   "source": []
  },
  {
   "cell_type": "code",
   "execution_count": 22,
   "metadata": {},
   "outputs": [],
   "source": [
    "random_indices = np.random.choice(np.arange(len(x_train)), replace=False, size=100)"
   ]
  },
  {
   "cell_type": "code",
   "execution_count": 23,
   "metadata": {},
   "outputs": [],
   "source": [
    "random_images = x_train[random_indices]"
   ]
  },
  {
   "cell_type": "code",
   "execution_count": 24,
   "metadata": {},
   "outputs": [],
   "source": [
    "true_labels = y_train[random_indices]"
   ]
  },
  {
   "cell_type": "code",
   "execution_count": 25,
   "metadata": {},
   "outputs": [],
   "source": [
    "predicted_labels = np.argmax(ccnn_function([random_images])[0], 1)"
   ]
  },
  {
   "cell_type": "code",
   "execution_count": 26,
   "metadata": {},
   "outputs": [
    {
     "data": {
      "text/plain": [
       "array([1, 1, 2, 6, 1, 5, 2, 1, 3, 2, 3, 0, 6, 2, 0, 2, 3, 6, 5, 3, 1, 7,\n",
       "       1, 1, 1, 1, 7, 6, 1, 1, 2, 3, 2, 1, 0, 1, 6, 5, 6, 2, 3, 2, 5, 2,\n",
       "       2, 6, 3, 3, 1, 1, 6, 0, 5, 6, 5, 5, 0, 3, 1, 2, 1, 1, 1, 2, 6, 6,\n",
       "       5, 1, 6, 0, 6, 2, 2, 0, 6, 2, 6, 4, 6, 2, 3, 5, 0, 1, 1, 1, 3, 2,\n",
       "       3, 6, 3, 1, 2, 3, 0, 2, 2, 2, 3, 1], dtype=int64)"
      ]
     },
     "execution_count": 26,
     "metadata": {},
     "output_type": "execute_result"
    }
   ],
   "source": [
    "predicted_labels"
   ]
  },
  {
   "cell_type": "code",
   "execution_count": 27,
   "metadata": {},
   "outputs": [
    {
     "data": {
      "text/plain": [
       "array([3, 3, 3, 4, 0, 5, 9, 5, 2, 3, 1, 1, 7, 8, 7, 5, 8, 6, 5, 7, 2, 4,\n",
       "       3, 2, 6, 4, 9, 8, 3, 3, 0, 9, 8, 3, 1, 5, 7, 9, 3, 3, 1, 9, 0, 3,\n",
       "       0, 7, 7, 1, 2, 2, 7, 7, 5, 7, 4, 5, 1, 2, 4, 8, 6, 0, 6, 0, 4, 4,\n",
       "       5, 8, 7, 7, 4, 3, 8, 1, 6, 5, 7, 6, 9, 3, 1, 5, 1, 2, 6, 0, 5, 5,\n",
       "       2, 7, 5, 4, 4, 1, 7, 0, 4, 8, 8, 8], dtype=uint8)"
      ]
     },
     "execution_count": 27,
     "metadata": {},
     "output_type": "execute_result"
    }
   ],
   "source": [
    "true_labels"
   ]
  },
  {
   "cell_type": "code",
   "execution_count": null,
   "metadata": {},
   "outputs": [],
   "source": []
  },
  {
   "cell_type": "code",
   "execution_count": 28,
   "metadata": {},
   "outputs": [
    {
     "data": {
      "text/plain": [
       "array([False, False, False, False, False,  True, False, False, False,\n",
       "       False, False, False, False, False, False, False, False,  True,\n",
       "        True, False, False, False, False, False, False, False, False,\n",
       "       False, False, False, False, False, False, False, False, False,\n",
       "       False, False, False, False, False, False, False, False, False,\n",
       "       False, False, False, False, False, False, False,  True, False,\n",
       "       False,  True, False, False, False, False, False, False, False,\n",
       "       False, False, False,  True, False, False, False, False, False,\n",
       "       False, False,  True, False, False, False, False, False, False,\n",
       "        True, False, False, False, False, False, False, False, False,\n",
       "       False, False, False, False, False, False, False, False, False,\n",
       "       False])"
      ]
     },
     "execution_count": 28,
     "metadata": {},
     "output_type": "execute_result"
    }
   ],
   "source": [
    "true_labels == predicted_labels"
   ]
  },
  {
   "cell_type": "code",
   "execution_count": null,
   "metadata": {},
   "outputs": [],
   "source": [
    "plt.imshow(random_images[0].reshape(28,28))"
   ]
  },
  {
   "cell_type": "code",
   "execution_count": null,
   "metadata": {},
   "outputs": [],
   "source": []
  }
 ],
 "metadata": {
  "kernelspec": {
   "display_name": "Python [conda env:re_model]",
   "language": "python",
   "name": "conda-env-re_model-py"
  },
  "language_info": {
   "codemirror_mode": {
    "name": "ipython",
    "version": 3
   },
   "file_extension": ".py",
   "mimetype": "text/x-python",
   "name": "python",
   "nbconvert_exporter": "python",
   "pygments_lexer": "ipython3",
   "version": "3.6.6"
  }
 },
 "nbformat": 4,
 "nbformat_minor": 2
}
