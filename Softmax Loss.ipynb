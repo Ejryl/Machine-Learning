{
 "cells": [
  {
   "cell_type": "markdown",
   "metadata": {},
   "source": [
    "# Softmax Loss Calculation"
   ]
  },
  {
   "cell_type": "code",
   "execution_count": 9,
   "metadata": {},
   "outputs": [],
   "source": [
    "import pandas as pd\n",
    "import plotly\n",
    "import plotly.plotly as py\n",
    "import plotly.graph_objs as go\n",
    "import numpy as np"
   ]
  },
  {
   "cell_type": "markdown",
   "metadata": {},
   "source": [
    "## Helper Functions"
   ]
  },
  {
   "cell_type": "code",
   "execution_count": 15,
   "metadata": {},
   "outputs": [],
   "source": [
    "def define_initial_data():\n",
    "\n",
    "    return {'point_1': {'x1': -3, 'x2': 3, 'label': 0},\n",
    "            'point_2': {'x1': 3, 'x2': 4, 'label': 0},\n",
    "            'point_3': {'x1': 5, 'x2': 2, 'label': 0},\n",
    "            'point_4': {'x1': -5, 'x2': -1, 'label': 1},\n",
    "            'point_5': {'x1': -3, 'x2': -2, 'label': 1},\n",
    "            'point_6': {'x1': -2, 'x2': -5, 'label': 1},\n",
    "            'point_7': {'x1': 1, 'x2': -6, 'label': 2},\n",
    "            'point_8': {'x1': 3, 'x2': -2, 'label': 2},\n",
    "            'point_9': {'x1': 5, 'x2': -1, 'label': 2}}"
   ]
  },
  {
   "cell_type": "code",
   "execution_count": 49,
   "metadata": {},
   "outputs": [],
   "source": [
    "def softmax(x):\n",
    "    return np.exp(x) / np.sum(np.exp(x))"
   ]
  },
  {
   "cell_type": "markdown",
   "metadata": {},
   "source": [
    "### Import data and define lambda for regularization"
   ]
  },
  {
   "cell_type": "code",
   "execution_count": 94,
   "metadata": {},
   "outputs": [],
   "source": [
    "# data import\n",
    "data = pd.DataFrame(define_initial_data()).T\n",
    "\n",
    "# define the lambda\n",
    "lmbda = 0.1"
   ]
  },
  {
   "cell_type": "markdown",
   "metadata": {},
   "source": [
    "### Prepare the features and the targets"
   ]
  },
  {
   "cell_type": "code",
   "execution_count": 31,
   "metadata": {},
   "outputs": [],
   "source": [
    "# one hot for the labels\n",
    "y = np.zeros((9, 3))\n",
    "y[np.arange(9), data['label']] = 1"
   ]
  },
  {
   "cell_type": "code",
   "execution_count": 32,
   "metadata": {},
   "outputs": [],
   "source": [
    "# turn the inputs into matrix\n",
    "X = np.array(data[['x1', 'x2']])"
   ]
  },
  {
   "cell_type": "markdown",
   "metadata": {},
   "source": [
    "### Randonly select a set of weights"
   ]
  },
  {
   "cell_type": "code",
   "execution_count": 55,
   "metadata": {},
   "outputs": [],
   "source": [
    "# define random weights\n",
    "w = np.random.randn(2, 3) / 3"
   ]
  },
  {
   "cell_type": "markdown",
   "metadata": {},
   "source": [
    "### Feedforward and calculate the error"
   ]
  },
  {
   "cell_type": "code",
   "execution_count": 56,
   "metadata": {},
   "outputs": [],
   "source": [
    "# obtain the scores\n",
    "z = X.dot(w)"
   ]
  },
  {
   "cell_type": "code",
   "execution_count": 57,
   "metadata": {},
   "outputs": [
    {
     "data": {
      "text/plain": [
       "array([[-0.16603629, -0.13952632, -0.49115925],\n",
       "       [ 1.51991926, -0.75141003,  1.9814518 ],\n",
       "       [ 1.63061012, -0.65839248,  2.3088913 ],\n",
       "       [-1.43719827,  0.53111586, -2.09599237],\n",
       "       [-1.13309556,  0.49685679, -1.55565393],\n",
       "       [-1.46457383,  0.7979188 , -1.81773205],\n",
       "       [-0.91171383,  0.68289188, -0.90077493],\n",
       "       [ 0.35944815,  0.0122497 ,  0.70405819],\n",
       "       [ 1.05037457, -0.27656262,  1.6701945 ]])"
      ]
     },
     "execution_count": 57,
     "metadata": {},
     "output_type": "execute_result"
    }
   ],
   "source": [
    "# check the scores\n",
    "z"
   ]
  },
  {
   "cell_type": "code",
   "execution_count": 95,
   "metadata": {},
   "outputs": [
    {
     "data": {
      "text/plain": [
       "array([[ 0.36372855,  0.37349993,  0.26277152],\n",
       "       [ 0.37179165,  0.03835958,  0.58984876],\n",
       "       [ 0.32553615,  0.03299879,  0.64146505],\n",
       "       [ 0.11525952,  0.82509656,  0.05964392],\n",
       "       [ 0.14795089,  0.75508683,  0.09696228],\n",
       "       [ 0.08842146,  0.84946547,  0.06211307],\n",
       "       [ 0.14414653,  0.71012148,  0.14573199],\n",
       "       [ 0.32070766,  0.22663291,  0.45265943],\n",
       "       [ 0.32011454,  0.08492272,  0.59496274]])"
      ]
     },
     "execution_count": 95,
     "metadata": {},
     "output_type": "execute_result"
    }
   ],
   "source": [
    "softmax_scores = np.zeros((9, 3))\n",
    "\n",
    "# calculate the softmax scores for evrery training example\n",
    "for i, score in enumerate(z):\n",
    "    softmax_scores[i] = softmax(z[i])\n",
    "\n",
    "# check the scores\n",
    "softmax_scores"
   ]
  },
  {
   "cell_type": "code",
   "execution_count": 97,
   "metadata": {},
   "outputs": [
    {
     "data": {
      "text/plain": [
       "array([[ 0.36372855],\n",
       "       [ 0.37179165],\n",
       "       [ 0.32553615],\n",
       "       [ 0.82509656],\n",
       "       [ 0.75508683],\n",
       "       [ 0.84946547],\n",
       "       [ 0.14573199],\n",
       "       [ 0.45265943],\n",
       "       [ 0.59496274]])"
      ]
     },
     "execution_count": 97,
     "metadata": {},
     "output_type": "execute_result"
    }
   ],
   "source": [
    "# get the softmax score of the correct class\n",
    "scores_yi = np.zeros((9, 3))\n",
    "scores_yi[np.arange(9), data['label']] = softmax_scores[np.arange(9), data['label']]\n",
    "s = scores_yi.flatten().reshape((-1, 1))\n",
    "s = s[~np.all(s == 0, axis=1)]\n",
    "s"
   ]
  },
  {
   "cell_type": "code",
   "execution_count": 100,
   "metadata": {},
   "outputs": [],
   "source": [
    "# get the cross entropy loss\n",
    "loss = -np.log(s) + lmbda * np.sum(np.square(w))\n",
    "loss"
   ]
  }
 ],
 "metadata": {
  "kernelspec": {
   "display_name": "Python [conda env:py3]",
   "language": "python",
   "name": "conda-env-py3-py"
  },
  "language_info": {
   "codemirror_mode": {
    "name": "ipython",
    "version": 3
   },
   "file_extension": ".py",
   "mimetype": "text/x-python",
   "name": "python",
   "nbconvert_exporter": "python",
   "pygments_lexer": "ipython3",
   "version": "3.6.4"
  }
 },
 "nbformat": 4,
 "nbformat_minor": 2
}
